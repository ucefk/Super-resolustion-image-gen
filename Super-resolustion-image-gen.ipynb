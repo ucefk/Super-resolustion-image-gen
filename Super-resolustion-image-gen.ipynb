{
 "cells": [
  {
   "cell_type": "code",
   "execution_count": 2,
   "metadata": {},
   "outputs": [
    {
     "name": "stdout",
     "output_type": "stream",
     "text": [
      "1.13.1\n"
     ]
    }
   ],
   "source": [
    "import numpy as np\n",
    "import matplotlib.pyplot as plt\n",
    "import tensorflow as tf\n",
    "\n",
    "from scipy import ndimage, misc\n",
    "from skimage.transform import resize, rescale\n",
    "\n",
    "from tensorflow.keras.layers import Input, Dense, Conv2D, MaxPooling2D, Dropout, Conv2DTranspose, UpSampling2D, add\n",
    "from tensorflow.keras.models import Model\n",
    "from tensorflow.keras import regularizers\n",
    "\n",
    "import os\n",
    "import re\n",
    "\n",
    "print(tf.__version__)\n"
   ]
  },
  {
   "cell_type": "code",
   "execution_count": 3,
   "metadata": {},
   "outputs": [
    {
     "name": "stdout",
     "output_type": "stream",
     "text": [
      "WARNING:tensorflow:From D:\\Users\\acer\\Anaconda3\\envs\\tensorflow_gpu\\lib\\site-packages\\tensorflow\\python\\ops\\resource_variable_ops.py:435: colocate_with (from tensorflow.python.framework.ops) is deprecated and will be removed in a future version.\n",
      "Instructions for updating:\n",
      "Colocations handled automatically by placer.\n"
     ]
    }
   ],
   "source": [
    "input_img = Input(shape=(256, 256, 3))\n",
    "\n",
    "l1 = Conv2D(64, \n",
    "            (3, 3), \n",
    "            padding='same', \n",
    "            activation='relu', \n",
    "            activity_regularizer=regularizers.l1(10e-10)\n",
    "           )(input_img)\n",
    "\n",
    "l2 = Conv2D(64, \n",
    "            (3, 3),\n",
    "            padding='same',\n",
    "            activation='relu',\n",
    "            activity_regularizer=regularizers.l1(10e-10)\n",
    "           )(l1)\n",
    "\n",
    "l3 = MaxPooling2D(padding='same')(l2)\n",
    "\n",
    "l4 = Conv2D(128, \n",
    "            (3, 3), \n",
    "            padding='same', \n",
    "            activation='relu', \n",
    "            activity_regularizer=regularizers.l1(10e-10)\n",
    "           )(l3)\n",
    "\n",
    "l5 = Conv2D(128, \n",
    "            (3, 3), \n",
    "            padding='same', \n",
    "            activation='relu', \n",
    "            activity_regularizer=regularizers.l1(10e-10)\n",
    "           )(l4)\n",
    "\n",
    "l6 = MaxPooling2D(padding='same')(l5)\n",
    "\n",
    "l7 = Conv2D(256, \n",
    "            (3, 3), \n",
    "            padding='same', \n",
    "            activation='relu', \n",
    "            activity_regularizer=regularizers.l1(10e-10)\n",
    "           )(l6)\n",
    "\n",
    "encoder = Model(input_img, l7)\n"
   ]
  },
  {
   "cell_type": "code",
   "execution_count": 4,
   "metadata": {},
   "outputs": [
    {
     "name": "stdout",
     "output_type": "stream",
     "text": [
      "_________________________________________________________________\n",
      "Layer (type)                 Output Shape              Param #   \n",
      "=================================================================\n",
      "input_1 (InputLayer)         (None, 256, 256, 3)       0         \n",
      "_________________________________________________________________\n",
      "conv2d (Conv2D)              (None, 256, 256, 64)      1792      \n",
      "_________________________________________________________________\n",
      "conv2d_1 (Conv2D)            (None, 256, 256, 64)      36928     \n",
      "_________________________________________________________________\n",
      "max_pooling2d (MaxPooling2D) (None, 128, 128, 64)      0         \n",
      "_________________________________________________________________\n",
      "conv2d_2 (Conv2D)            (None, 128, 128, 128)     73856     \n",
      "_________________________________________________________________\n",
      "conv2d_3 (Conv2D)            (None, 128, 128, 128)     147584    \n",
      "_________________________________________________________________\n",
      "max_pooling2d_1 (MaxPooling2 (None, 64, 64, 128)       0         \n",
      "_________________________________________________________________\n",
      "conv2d_4 (Conv2D)            (None, 64, 64, 256)       295168    \n",
      "=================================================================\n",
      "Total params: 555,328\n",
      "Trainable params: 555,328\n",
      "Non-trainable params: 0\n",
      "_________________________________________________________________\n"
     ]
    }
   ],
   "source": [
    "encoder.summary()"
   ]
  },
  {
   "cell_type": "code",
   "execution_count": 5,
   "metadata": {},
   "outputs": [],
   "source": [
    "input_img = Input(shape=(256, 256, 3))\n",
    "\n",
    "l1 = Conv2D(64, \n",
    "            (3, 3), \n",
    "            padding='same', \n",
    "            activation='relu', \n",
    "            activity_regularizer=regularizers.l1(10e-10)\n",
    "           )(input_img)\n",
    "\n",
    "l2 = Conv2D(64, \n",
    "            (3, 3),\n",
    "            padding='same',\n",
    "            activation='relu',\n",
    "            activity_regularizer=regularizers.l1(10e-10)\n",
    "           )(l1)\n",
    "\n",
    "l3 = MaxPooling2D(padding='same')(l2)\n",
    "\n",
    "l4 = Conv2D(128, \n",
    "            (3, 3), \n",
    "            padding='same', \n",
    "            activation='relu', \n",
    "            activity_regularizer=regularizers.l1(10e-10)\n",
    "           )(l3)\n",
    "\n",
    "l5 = Conv2D(128, \n",
    "            (3, 3), \n",
    "            padding='same', \n",
    "            activation='relu', \n",
    "            activity_regularizer=regularizers.l1(10e-10)\n",
    "           )(l4)\n",
    "\n",
    "l6 = MaxPooling2D(padding='same')(l5)\n",
    "\n",
    "l7 = Conv2D(256, \n",
    "            (3, 3), \n",
    "            padding='same', \n",
    "            activation='relu', \n",
    "            activity_regularizer=regularizers.l1(10e-10)\n",
    "           )(l6)"
   ]
  },
  {
   "cell_type": "code",
   "execution_count": 6,
   "metadata": {},
   "outputs": [],
   "source": [
    "l8 = UpSampling2D()(l7)\n",
    "\n",
    "l9 = Conv2D(128, \n",
    "            (3, 3), \n",
    "            padding='same', \n",
    "            activation='relu', \n",
    "            activity_regularizer=regularizers.l1(10e-10)\n",
    "           )(l8)\n",
    "\n",
    "l10 = Conv2D(128, \n",
    "            (3, 3), \n",
    "            padding='same', \n",
    "            activation='relu', \n",
    "            activity_regularizer=regularizers.l1(10e-10)\n",
    "           )(l9)\n",
    "\n",
    "l11 = add([l5, l10])\n",
    "\n",
    "l12 = UpSampling2D()(l11)\n",
    "\n",
    "l13 = Conv2D(64, \n",
    "            (3, 3), \n",
    "            padding='same', \n",
    "            activation='relu', \n",
    "            activity_regularizer=regularizers.l1(10e-10)\n",
    "           )(l12)\n",
    "\n",
    "l14 = Conv2D(64, \n",
    "            (3, 3), \n",
    "            padding='same', \n",
    "            activation='relu', \n",
    "            activity_regularizer=regularizers.l1(10e-10)\n",
    "           )(l13)\n",
    "\n",
    "l15 = add([l14, l2])\n",
    "\n",
    "decoder = Conv2D(3, \n",
    "            (3, 3), \n",
    "            padding='same', \n",
    "            activation='relu', \n",
    "            activity_regularizer=regularizers.l1(10e-10)\n",
    "           )(l15)\n",
    "\n",
    "\n",
    "autoencoder = Model(input_img, decoder)"
   ]
  },
  {
   "cell_type": "code",
   "execution_count": 7,
   "metadata": {},
   "outputs": [
    {
     "name": "stdout",
     "output_type": "stream",
     "text": [
      "__________________________________________________________________________________________________\n",
      "Layer (type)                    Output Shape         Param #     Connected to                     \n",
      "==================================================================================================\n",
      "input_2 (InputLayer)            (None, 256, 256, 3)  0                                            \n",
      "__________________________________________________________________________________________________\n",
      "conv2d_5 (Conv2D)               (None, 256, 256, 64) 1792        input_2[0][0]                    \n",
      "__________________________________________________________________________________________________\n",
      "conv2d_6 (Conv2D)               (None, 256, 256, 64) 36928       conv2d_5[0][0]                   \n",
      "__________________________________________________________________________________________________\n",
      "max_pooling2d_2 (MaxPooling2D)  (None, 128, 128, 64) 0           conv2d_6[0][0]                   \n",
      "__________________________________________________________________________________________________\n",
      "conv2d_7 (Conv2D)               (None, 128, 128, 128 73856       max_pooling2d_2[0][0]            \n",
      "__________________________________________________________________________________________________\n",
      "conv2d_8 (Conv2D)               (None, 128, 128, 128 147584      conv2d_7[0][0]                   \n",
      "__________________________________________________________________________________________________\n",
      "max_pooling2d_3 (MaxPooling2D)  (None, 64, 64, 128)  0           conv2d_8[0][0]                   \n",
      "__________________________________________________________________________________________________\n",
      "conv2d_9 (Conv2D)               (None, 64, 64, 256)  295168      max_pooling2d_3[0][0]            \n",
      "__________________________________________________________________________________________________\n",
      "up_sampling2d (UpSampling2D)    (None, 128, 128, 256 0           conv2d_9[0][0]                   \n",
      "__________________________________________________________________________________________________\n",
      "conv2d_10 (Conv2D)              (None, 128, 128, 128 295040      up_sampling2d[0][0]              \n",
      "__________________________________________________________________________________________________\n",
      "conv2d_11 (Conv2D)              (None, 128, 128, 128 147584      conv2d_10[0][0]                  \n",
      "__________________________________________________________________________________________________\n",
      "add (Add)                       (None, 128, 128, 128 0           conv2d_8[0][0]                   \n",
      "                                                                 conv2d_11[0][0]                  \n",
      "__________________________________________________________________________________________________\n",
      "up_sampling2d_1 (UpSampling2D)  (None, 256, 256, 128 0           add[0][0]                        \n",
      "__________________________________________________________________________________________________\n",
      "conv2d_12 (Conv2D)              (None, 256, 256, 64) 73792       up_sampling2d_1[0][0]            \n",
      "__________________________________________________________________________________________________\n",
      "conv2d_13 (Conv2D)              (None, 256, 256, 64) 36928       conv2d_12[0][0]                  \n",
      "__________________________________________________________________________________________________\n",
      "add_1 (Add)                     (None, 256, 256, 64) 0           conv2d_13[0][0]                  \n",
      "                                                                 conv2d_6[0][0]                   \n",
      "__________________________________________________________________________________________________\n",
      "conv2d_14 (Conv2D)              (None, 256, 256, 3)  1731        add_1[0][0]                      \n",
      "==================================================================================================\n",
      "Total params: 1,110,403\n",
      "Trainable params: 1,110,403\n",
      "Non-trainable params: 0\n",
      "__________________________________________________________________________________________________\n"
     ]
    }
   ],
   "source": [
    "autoencoder.summary()"
   ]
  },
  {
   "cell_type": "code",
   "execution_count": 8,
   "metadata": {},
   "outputs": [
    {
     "name": "stdout",
     "output_type": "stream",
     "text": [
      "WARNING:tensorflow:From D:\\Users\\acer\\Anaconda3\\envs\\tensorflow_gpu\\lib\\site-packages\\tensorflow\\python\\keras\\utils\\losses_utils.py:170: to_float (from tensorflow.python.ops.math_ops) is deprecated and will be removed in a future version.\n",
      "Instructions for updating:\n",
      "Use tf.cast instead.\n"
     ]
    }
   ],
   "source": [
    "autoencoder.compile(\n",
    "    optimizer='adadelta',\n",
    "    loss='mean_squared_error'\n",
    ")"
   ]
  },
  {
   "cell_type": "code",
   "execution_count": null,
   "metadata": {},
   "outputs": [],
   "source": []
  },
  {
   "cell_type": "code",
   "execution_count": null,
   "metadata": {},
   "outputs": [],
   "source": []
  },
  {
   "cell_type": "code",
   "execution_count": null,
   "metadata": {},
   "outputs": [],
   "source": []
  },
  {
   "cell_type": "code",
   "execution_count": null,
   "metadata": {},
   "outputs": [],
   "source": []
  },
  {
   "cell_type": "code",
   "execution_count": null,
   "metadata": {},
   "outputs": [],
   "source": []
  },
  {
   "cell_type": "code",
   "execution_count": null,
   "metadata": {},
   "outputs": [],
   "source": []
  },
  {
   "cell_type": "code",
   "execution_count": null,
   "metadata": {},
   "outputs": [],
   "source": []
  },
  {
   "cell_type": "code",
   "execution_count": null,
   "metadata": {},
   "outputs": [],
   "source": []
  }
 ],
 "metadata": {
  "kernelspec": {
   "display_name": "Python 3",
   "language": "python",
   "name": "python3"
  },
  "language_info": {
   "codemirror_mode": {
    "name": "ipython",
    "version": 3
   },
   "file_extension": ".py",
   "mimetype": "text/x-python",
   "name": "python",
   "nbconvert_exporter": "python",
   "pygments_lexer": "ipython3",
   "version": "3.7.3"
  }
 },
 "nbformat": 4,
 "nbformat_minor": 2
}
